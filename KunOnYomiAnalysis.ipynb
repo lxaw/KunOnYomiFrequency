{
 "cells": [
  {
   "cell_type": "code",
   "execution_count": 1,
   "metadata": {},
   "outputs": [],
   "source": [
    "import numpy as np\n",
    "import pandas as pd\n",
    "import re\n",
    "import matplotlib.pyplot as plt\n",
    "import random\n",
    "from matplotlib.offsetbox import AnchoredText"
   ]
  },
  {
   "cell_type": "code",
   "execution_count": 2,
   "metadata": {},
   "outputs": [],
   "source": [
    "#!jt -t onedork -> dark mode, r monokai\n",
    "#!jt -t"
   ]
  },
  {
   "cell_type": "code",
   "execution_count": 3,
   "metadata": {},
   "outputs": [],
   "source": [
    "# 18 total columns\n",
    "df = pd.read_csv(\"all_in_one_kanji.csv\",index_col=False,header = None,\n",
    "                 names = [\"Kanji\",\"Onyomi\",\"Kunyomi\",\"Nanori\",\"English\",\"Examples\",\n",
    "                         \"JLPT Level\",\"Jouyou Grade\",\"Frequency\",\"Components\",\n",
    "                         \"Number of Strokes\",\"Kanji Radical\",\"Radical Number\",\n",
    "                          \"Radical Strokes\",\"Radical Reading\",\n",
    "                         \"Traditional Form\",\"Classification\",\"Keyword\",\"Koohii Story 1\",\n",
    "                         \"Koohii Story 2\"])"
   ]
  },
  {
   "cell_type": "code",
   "execution_count": 4,
   "metadata": {},
   "outputs": [
    {
     "name": "stdout",
     "output_type": "stream",
     "text": [
      "0:Kanji\n",
      "1:Onyomi\n",
      "2:Kunyomi\n",
      "3:Nanori\n",
      "4:English\n",
      "5:Examples\n",
      "6:JLPT Level\n",
      "7:Jouyou Grade\n",
      "8:Frequency\n",
      "9:Components\n",
      "10:Number of Strokes\n",
      "11:Kanji Radical\n",
      "12:Radical Number\n",
      "13:Radical Strokes\n",
      "14:Radical Reading\n",
      "15:Traditional Form\n",
      "16:Classification\n",
      "17:Keyword\n",
      "18:Koohii Story 1\n",
      "19:Koohii Story 2\n"
     ]
    }
   ],
   "source": [
    "for n, col in enumerate(df.columns):\n",
    "    print(\"{}:{}\".format(n,col))"
   ]
  },
  {
   "cell_type": "code",
   "execution_count": 5,
   "metadata": {},
   "outputs": [],
   "source": [
    "# for use in other projects\n",
    "#df.to_csv(\"anki_kanji_df.csv\")"
   ]
  },
  {
   "cell_type": "code",
   "execution_count": 6,
   "metadata": {},
   "outputs": [
    {
     "data": {
      "text/html": [
       "<div>\n",
       "<style scoped>\n",
       "    .dataframe tbody tr th:only-of-type {\n",
       "        vertical-align: middle;\n",
       "    }\n",
       "\n",
       "    .dataframe tbody tr th {\n",
       "        vertical-align: top;\n",
       "    }\n",
       "\n",
       "    .dataframe thead th {\n",
       "        text-align: right;\n",
       "    }\n",
       "</style>\n",
       "<table border=\"1\" class=\"dataframe\">\n",
       "  <thead>\n",
       "    <tr style=\"text-align: right;\">\n",
       "      <th></th>\n",
       "      <th>Kanji</th>\n",
       "      <th>Onyomi</th>\n",
       "      <th>Kunyomi</th>\n",
       "      <th>Nanori</th>\n",
       "      <th>English</th>\n",
       "      <th>Examples</th>\n",
       "      <th>JLPT Level</th>\n",
       "      <th>Jouyou Grade</th>\n",
       "      <th>Frequency</th>\n",
       "      <th>Components</th>\n",
       "      <th>Number of Strokes</th>\n",
       "      <th>Kanji Radical</th>\n",
       "      <th>Radical Number</th>\n",
       "      <th>Radical Strokes</th>\n",
       "      <th>Radical Reading</th>\n",
       "      <th>Traditional Form</th>\n",
       "      <th>Classification</th>\n",
       "      <th>Keyword</th>\n",
       "      <th>Koohii Story 1</th>\n",
       "      <th>Koohii Story 2</th>\n",
       "    </tr>\n",
       "  </thead>\n",
       "  <tbody>\n",
       "    <tr>\n",
       "      <th>0</th>\n",
       "      <td>一</td>\n",
       "      <td>イチ、イツ</td>\n",
       "      <td>ひと-、ひと.つ</td>\n",
       "      <td>かず, い, いっ, いる, かつ, かづ, てん, はじめ, ひ, ひとつ, まこと</td>\n",
       "      <td>one</td>\n",
       "      <td>\"一人(ひとり): (1) one person (2) alone; unmarried;...</td>\n",
       "      <td>5</td>\n",
       "      <td>1</td>\n",
       "      <td>2.0</td>\n",
       "      <td>一: one, one radical (no. 1)</td>\n",
       "      <td>1.0</td>\n",
       "      <td>一</td>\n",
       "      <td>1.0</td>\n",
       "      <td>1.0</td>\n",
       "      <td>いち</td>\n",
       "      <td>(none)</td>\n",
       "      <td>指事 Ideographic</td>\n",
       "      <td>one</td>\n",
       "      <td>One down, 2041 to go. ;).</td>\n",
       "      <td>\"To learn this one kanji, I recommend (#2000) ...</td>\n",
       "    </tr>\n",
       "    <tr>\n",
       "      <th>1</th>\n",
       "      <td>二</td>\n",
       "      <td>ニ、ジ</td>\n",
       "      <td>ふた、ふた.つ、ふたたび</td>\n",
       "      <td>おと, つぐ, にい, は, ふ, ふたつ, ふだ, わ</td>\n",
       "      <td>two</td>\n",
       "      <td>二(に): two&lt;br&gt;二人(ふたり): two persons; two people;...</td>\n",
       "      <td>5</td>\n",
       "      <td>1</td>\n",
       "      <td>9.0</td>\n",
       "      <td>二: two, two radical (no. 7)</td>\n",
       "      <td>2.0</td>\n",
       "      <td>二</td>\n",
       "      <td>7.0</td>\n",
       "      <td>2.0</td>\n",
       "      <td>に・ふた</td>\n",
       "      <td>(none)</td>\n",
       "      <td>指事 Ideographic</td>\n",
       "      <td>two</td>\n",
       "      <td>Two lines.</td>\n",
       "      <td>Roman numeral II, written on its side.</td>\n",
       "    </tr>\n",
       "  </tbody>\n",
       "</table>\n",
       "</div>"
      ],
      "text/plain": [
       "  Kanji Onyomi       Kunyomi                                       Nanori  \\\n",
       "0     一  イチ、イツ      ひと-、ひと.つ  かず, い, いっ, いる, かつ, かづ, てん, はじめ, ひ, ひとつ, まこと   \n",
       "1     二    ニ、ジ  ふた、ふた.つ、ふたたび                 おと, つぐ, にい, は, ふ, ふたつ, ふだ, わ   \n",
       "\n",
       "  English                                           Examples  JLPT Level  \\\n",
       "0     one  \"一人(ひとり): (1) one person (2) alone; unmarried;...           5   \n",
       "1     two  二(に): two<br>二人(ふたり): two persons; two people;...           5   \n",
       "\n",
       "  Jouyou Grade  Frequency                   Components  Number of Strokes  \\\n",
       "0            1        2.0  一: one, one radical (no. 1)                1.0   \n",
       "1            1        9.0  二: two, two radical (no. 7)                2.0   \n",
       "\n",
       "  Kanji Radical  Radical Number  Radical Strokes Radical Reading  \\\n",
       "0             一             1.0              1.0              いち   \n",
       "1             二             7.0              2.0            に・ふた   \n",
       "\n",
       "  Traditional Form  Classification Keyword             Koohii Story 1  \\\n",
       "0           (none)  指事 Ideographic     one  One down, 2041 to go. ;).   \n",
       "1           (none)  指事 Ideographic     two                 Two lines.   \n",
       "\n",
       "                                      Koohii Story 2  \n",
       "0  \"To learn this one kanji, I recommend (#2000) ...  \n",
       "1             Roman numeral II, written on its side.  "
      ]
     },
     "execution_count": 6,
     "metadata": {},
     "output_type": "execute_result"
    }
   ],
   "source": [
    "df.head(2)"
   ]
  },
  {
   "cell_type": "code",
   "execution_count": 7,
   "metadata": {},
   "outputs": [],
   "source": [
    "df_slim = df[[\"Kanji\",\"Onyomi\",\"Kunyomi\"]].copy()"
   ]
  },
  {
   "cell_type": "code",
   "execution_count": 8,
   "metadata": {},
   "outputs": [
    {
     "data": {
      "text/html": [
       "<div>\n",
       "<style scoped>\n",
       "    .dataframe tbody tr th:only-of-type {\n",
       "        vertical-align: middle;\n",
       "    }\n",
       "\n",
       "    .dataframe tbody tr th {\n",
       "        vertical-align: top;\n",
       "    }\n",
       "\n",
       "    .dataframe thead th {\n",
       "        text-align: right;\n",
       "    }\n",
       "</style>\n",
       "<table border=\"1\" class=\"dataframe\">\n",
       "  <thead>\n",
       "    <tr style=\"text-align: right;\">\n",
       "      <th></th>\n",
       "      <th>Kanji</th>\n",
       "      <th>Onyomi</th>\n",
       "      <th>Kunyomi</th>\n",
       "    </tr>\n",
       "  </thead>\n",
       "  <tbody>\n",
       "    <tr>\n",
       "      <th>3782</th>\n",
       "      <td>鮠</td>\n",
       "      <td>NaN</td>\n",
       "      <td>NaN</td>\n",
       "    </tr>\n",
       "    <tr>\n",
       "      <th>3783</th>\n",
       "      <td>鯊</td>\n",
       "      <td>NaN</td>\n",
       "      <td>NaN</td>\n",
       "    </tr>\n",
       "    <tr>\n",
       "      <th>3784</th>\n",
       "      <td>鯰</td>\n",
       "      <td>NaN</td>\n",
       "      <td>NaN</td>\n",
       "    </tr>\n",
       "    <tr>\n",
       "      <th>3785</th>\n",
       "      <td>鰌</td>\n",
       "      <td>NaN</td>\n",
       "      <td>NaN</td>\n",
       "    </tr>\n",
       "    <tr>\n",
       "      <th>3786</th>\n",
       "      <td>鮃</td>\n",
       "      <td>NaN</td>\n",
       "      <td>NaN</td>\n",
       "    </tr>\n",
       "  </tbody>\n",
       "</table>\n",
       "</div>"
      ],
      "text/plain": [
       "     Kanji Onyomi Kunyomi\n",
       "3782     鮠    NaN     NaN\n",
       "3783     鯊    NaN     NaN\n",
       "3784     鯰    NaN     NaN\n",
       "3785     鰌    NaN     NaN\n",
       "3786     鮃    NaN     NaN"
      ]
     },
     "execution_count": 8,
     "metadata": {},
     "output_type": "execute_result"
    }
   ],
   "source": [
    "df_slim.tail()"
   ]
  },
  {
   "cell_type": "code",
   "execution_count": 9,
   "metadata": {},
   "outputs": [
    {
     "data": {
      "text/plain": [
       "(3787, 3)"
      ]
     },
     "execution_count": 9,
     "metadata": {},
     "output_type": "execute_result"
    }
   ],
   "source": [
    "df_slim.shape"
   ]
  },
  {
   "cell_type": "code",
   "execution_count": 10,
   "metadata": {},
   "outputs": [],
   "source": [
    "df_slim.dropna(inplace=True)"
   ]
  },
  {
   "cell_type": "code",
   "execution_count": 11,
   "metadata": {},
   "outputs": [
    {
     "data": {
      "text/plain": [
       "(2406, 3)"
      ]
     },
     "execution_count": 11,
     "metadata": {},
     "output_type": "execute_result"
    }
   ],
   "source": [
    "df_slim.shape"
   ]
  },
  {
   "cell_type": "code",
   "execution_count": 12,
   "metadata": {},
   "outputs": [],
   "source": [
    "freq_df = pd.read_csv(\"freq_list.csv\")"
   ]
  },
  {
   "cell_type": "code",
   "execution_count": 13,
   "metadata": {},
   "outputs": [
    {
     "data": {
      "text/html": [
       "<div>\n",
       "<style scoped>\n",
       "    .dataframe tbody tr th:only-of-type {\n",
       "        vertical-align: middle;\n",
       "    }\n",
       "\n",
       "    .dataframe tbody tr th {\n",
       "        vertical-align: top;\n",
       "    }\n",
       "\n",
       "    .dataframe thead th {\n",
       "        text-align: right;\n",
       "    }\n",
       "</style>\n",
       "<table border=\"1\" class=\"dataframe\">\n",
       "  <thead>\n",
       "    <tr style=\"text-align: right;\">\n",
       "      <th></th>\n",
       "      <th>Word</th>\n",
       "      <th>Frequency</th>\n",
       "    </tr>\n",
       "  </thead>\n",
       "  <tbody>\n",
       "    <tr>\n",
       "      <th>0</th>\n",
       "      <td>の</td>\n",
       "      <td>1612852</td>\n",
       "    </tr>\n",
       "    <tr>\n",
       "      <th>1</th>\n",
       "      <td>に</td>\n",
       "      <td>912916</td>\n",
       "    </tr>\n",
       "    <tr>\n",
       "      <th>2</th>\n",
       "      <td>を</td>\n",
       "      <td>894982</td>\n",
       "    </tr>\n",
       "    <tr>\n",
       "      <th>3</th>\n",
       "      <td>が</td>\n",
       "      <td>437742</td>\n",
       "    </tr>\n",
       "    <tr>\n",
       "      <th>4</th>\n",
       "      <td>て</td>\n",
       "      <td>430296</td>\n",
       "    </tr>\n",
       "  </tbody>\n",
       "</table>\n",
       "</div>"
      ],
      "text/plain": [
       "  Word  Frequency\n",
       "0    の    1612852\n",
       "1    に     912916\n",
       "2    を     894982\n",
       "3    が     437742\n",
       "4    て     430296"
      ]
     },
     "execution_count": 13,
     "metadata": {},
     "output_type": "execute_result"
    }
   ],
   "source": [
    "freq_df.head()"
   ]
  },
  {
   "cell_type": "code",
   "execution_count": 14,
   "metadata": {},
   "outputs": [],
   "source": [
    "K_PATTERN = r\"([一-龯])\""
   ]
  },
  {
   "cell_type": "code",
   "execution_count": 15,
   "metadata": {},
   "outputs": [],
   "source": [
    "test = \"これは漢字のある文章です。もっと漢字を使え！\""
   ]
  },
  {
   "cell_type": "code",
   "execution_count": 16,
   "metadata": {},
   "outputs": [
    {
     "data": {
      "text/plain": [
       "['漢', '字', '文', '章', '漢', '字', '使']"
      ]
     },
     "execution_count": 16,
     "metadata": {},
     "output_type": "execute_result"
    }
   ],
   "source": [
    "re.findall(K_PATTERN,test)"
   ]
  },
  {
   "cell_type": "code",
   "execution_count": 17,
   "metadata": {},
   "outputs": [],
   "source": [
    "def regex_filter(val, regex):\n",
    "    if val:\n",
    "        mo = re.search(regex,val)\n",
    "        if mo:\n",
    "            return True\n",
    "        else:\n",
    "            return False\n",
    "    else:\n",
    "        return False"
   ]
  },
  {
   "cell_type": "code",
   "execution_count": 18,
   "metadata": {},
   "outputs": [],
   "source": [
    "# get the words with kanji in them\n",
    "freq_filtered = freq_df[freq_df[\"Word\"].apply(regex_filter,regex=K_PATTERN)]"
   ]
  },
  {
   "cell_type": "code",
   "execution_count": 19,
   "metadata": {},
   "outputs": [
    {
     "data": {
      "text/html": [
       "<div>\n",
       "<style scoped>\n",
       "    .dataframe tbody tr th:only-of-type {\n",
       "        vertical-align: middle;\n",
       "    }\n",
       "\n",
       "    .dataframe tbody tr th {\n",
       "        vertical-align: top;\n",
       "    }\n",
       "\n",
       "    .dataframe thead th {\n",
       "        text-align: right;\n",
       "    }\n",
       "</style>\n",
       "<table border=\"1\" class=\"dataframe\">\n",
       "  <thead>\n",
       "    <tr style=\"text-align: right;\">\n",
       "      <th></th>\n",
       "      <th>Word</th>\n",
       "      <th>Frequency</th>\n",
       "    </tr>\n",
       "  </thead>\n",
       "  <tbody>\n",
       "    <tr>\n",
       "      <th>13</th>\n",
       "      <td>ローマ字</td>\n",
       "      <td>158036</td>\n",
       "    </tr>\n",
       "    <tr>\n",
       "      <th>21</th>\n",
       "      <td>人</td>\n",
       "      <td>99713</td>\n",
       "    </tr>\n",
       "    <tr>\n",
       "      <th>22</th>\n",
       "      <td>名</td>\n",
       "      <td>96459</td>\n",
       "    </tr>\n",
       "    <tr>\n",
       "      <th>34</th>\n",
       "      <td>的</td>\n",
       "      <td>55390</td>\n",
       "    </tr>\n",
       "    <tr>\n",
       "      <th>35</th>\n",
       "      <td>二</td>\n",
       "      <td>54078</td>\n",
       "    </tr>\n",
       "  </tbody>\n",
       "</table>\n",
       "</div>"
      ],
      "text/plain": [
       "    Word  Frequency\n",
       "13  ローマ字     158036\n",
       "21     人      99713\n",
       "22     名      96459\n",
       "34     的      55390\n",
       "35     二      54078"
      ]
     },
     "execution_count": 19,
     "metadata": {},
     "output_type": "execute_result"
    }
   ],
   "source": [
    "freq_filtered.head()"
   ]
  },
  {
   "cell_type": "code",
   "execution_count": 20,
   "metadata": {},
   "outputs": [],
   "source": [
    "def only_kanji(text):\n",
    "    return \"\".join(re.findall(K_PATTERN,text))"
   ]
  },
  {
   "cell_type": "code",
   "execution_count": 21,
   "metadata": {},
   "outputs": [],
   "source": [
    "kanji_df = freq_filtered.copy()"
   ]
  },
  {
   "cell_type": "code",
   "execution_count": 22,
   "metadata": {},
   "outputs": [],
   "source": [
    "kanji_df[\"Word\"] = kanji_df[\"Word\"].apply(only_kanji)"
   ]
  },
  {
   "cell_type": "code",
   "execution_count": 23,
   "metadata": {},
   "outputs": [
    {
     "data": {
      "text/html": [
       "<div>\n",
       "<style scoped>\n",
       "    .dataframe tbody tr th:only-of-type {\n",
       "        vertical-align: middle;\n",
       "    }\n",
       "\n",
       "    .dataframe tbody tr th {\n",
       "        vertical-align: top;\n",
       "    }\n",
       "\n",
       "    .dataframe thead th {\n",
       "        text-align: right;\n",
       "    }\n",
       "</style>\n",
       "<table border=\"1\" class=\"dataframe\">\n",
       "  <thead>\n",
       "    <tr style=\"text-align: right;\">\n",
       "      <th></th>\n",
       "      <th>Word</th>\n",
       "      <th>Frequency</th>\n",
       "    </tr>\n",
       "  </thead>\n",
       "  <tbody>\n",
       "    <tr>\n",
       "      <th>13</th>\n",
       "      <td>字</td>\n",
       "      <td>158036</td>\n",
       "    </tr>\n",
       "    <tr>\n",
       "      <th>21</th>\n",
       "      <td>人</td>\n",
       "      <td>99713</td>\n",
       "    </tr>\n",
       "    <tr>\n",
       "      <th>22</th>\n",
       "      <td>名</td>\n",
       "      <td>96459</td>\n",
       "    </tr>\n",
       "    <tr>\n",
       "      <th>34</th>\n",
       "      <td>的</td>\n",
       "      <td>55390</td>\n",
       "    </tr>\n",
       "    <tr>\n",
       "      <th>35</th>\n",
       "      <td>二</td>\n",
       "      <td>54078</td>\n",
       "    </tr>\n",
       "    <tr>\n",
       "      <th>...</th>\n",
       "      <td>...</td>\n",
       "      <td>...</td>\n",
       "    </tr>\n",
       "    <tr>\n",
       "      <th>257166</th>\n",
       "      <td>玉</td>\n",
       "      <td>1</td>\n",
       "    </tr>\n",
       "    <tr>\n",
       "      <th>257167</th>\n",
       "      <td>亟端</td>\n",
       "      <td>1</td>\n",
       "    </tr>\n",
       "    <tr>\n",
       "      <th>257169</th>\n",
       "      <td>一体春風馬堤曲採蓮</td>\n",
       "      <td>1</td>\n",
       "    </tr>\n",
       "    <tr>\n",
       "      <th>257172</th>\n",
       "      <td>蹐地</td>\n",
       "      <td>1</td>\n",
       "    </tr>\n",
       "    <tr>\n",
       "      <th>257173</th>\n",
       "      <td>輸陪</td>\n",
       "      <td>1</td>\n",
       "    </tr>\n",
       "  </tbody>\n",
       "</table>\n",
       "<p>118091 rows × 2 columns</p>\n",
       "</div>"
      ],
      "text/plain": [
       "             Word  Frequency\n",
       "13              字     158036\n",
       "21              人      99713\n",
       "22              名      96459\n",
       "34              的      55390\n",
       "35              二      54078\n",
       "...           ...        ...\n",
       "257166          玉          1\n",
       "257167         亟端          1\n",
       "257169  一体春風馬堤曲採蓮          1\n",
       "257172         蹐地          1\n",
       "257173         輸陪          1\n",
       "\n",
       "[118091 rows x 2 columns]"
      ]
     },
     "execution_count": 23,
     "metadata": {},
     "output_type": "execute_result"
    }
   ],
   "source": [
    "kanji_df"
   ]
  },
  {
   "cell_type": "code",
   "execution_count": 24,
   "metadata": {},
   "outputs": [
    {
     "data": {
      "text/plain": [
       "248"
      ]
     },
     "execution_count": 24,
     "metadata": {},
     "output_type": "execute_result"
    }
   ],
   "source": [
    "# number of words found with that char\n",
    "kanji_df[\"Word\"].str.count(\"字\").sum()"
   ]
  },
  {
   "cell_type": "code",
   "execution_count": 25,
   "metadata": {},
   "outputs": [],
   "source": [
    "#get a list of all kanji from that freq_df\n",
    "k_list = []\n",
    "for i in kanji_df[\"Word\"]:\n",
    "    res = re.findall(K_PATTERN,i)\n",
    "    if len(res) > 0:\n",
    "        k_list +=res"
   ]
  },
  {
   "cell_type": "code",
   "execution_count": 26,
   "metadata": {},
   "outputs": [],
   "source": [
    "k_set = set(k_list)"
   ]
  },
  {
   "cell_type": "code",
   "execution_count": 27,
   "metadata": {},
   "outputs": [
    {
     "data": {
      "text/plain": [
       "276155"
      ]
     },
     "execution_count": 27,
     "metadata": {},
     "output_type": "execute_result"
    }
   ],
   "source": [
    "len(k_list)"
   ]
  },
  {
   "cell_type": "code",
   "execution_count": 28,
   "metadata": {},
   "outputs": [
    {
     "data": {
      "text/plain": [
       "6620"
      ]
     },
     "execution_count": 28,
     "metadata": {},
     "output_type": "execute_result"
    }
   ],
   "source": [
    "len(k_set)"
   ]
  },
  {
   "cell_type": "code",
   "execution_count": 29,
   "metadata": {},
   "outputs": [
    {
     "data": {
      "text/html": [
       "<div>\n",
       "<style scoped>\n",
       "    .dataframe tbody tr th:only-of-type {\n",
       "        vertical-align: middle;\n",
       "    }\n",
       "\n",
       "    .dataframe tbody tr th {\n",
       "        vertical-align: top;\n",
       "    }\n",
       "\n",
       "    .dataframe thead th {\n",
       "        text-align: right;\n",
       "    }\n",
       "</style>\n",
       "<table border=\"1\" class=\"dataframe\">\n",
       "  <thead>\n",
       "    <tr style=\"text-align: right;\">\n",
       "      <th></th>\n",
       "      <th>Word</th>\n",
       "      <th>Frequency</th>\n",
       "    </tr>\n",
       "  </thead>\n",
       "  <tbody>\n",
       "    <tr>\n",
       "      <th>13</th>\n",
       "      <td>字</td>\n",
       "      <td>158036</td>\n",
       "    </tr>\n",
       "    <tr>\n",
       "      <th>21</th>\n",
       "      <td>人</td>\n",
       "      <td>99713</td>\n",
       "    </tr>\n",
       "    <tr>\n",
       "      <th>22</th>\n",
       "      <td>名</td>\n",
       "      <td>96459</td>\n",
       "    </tr>\n",
       "  </tbody>\n",
       "</table>\n",
       "</div>"
      ],
      "text/plain": [
       "   Word  Frequency\n",
       "13    字     158036\n",
       "21    人      99713\n",
       "22    名      96459"
      ]
     },
     "execution_count": 29,
     "metadata": {},
     "output_type": "execute_result"
    }
   ],
   "source": [
    "kanji_df.head(3)"
   ]
  },
  {
   "cell_type": "code",
   "execution_count": 30,
   "metadata": {},
   "outputs": [
    {
     "data": {
      "text/html": [
       "<div>\n",
       "<style scoped>\n",
       "    .dataframe tbody tr th:only-of-type {\n",
       "        vertical-align: middle;\n",
       "    }\n",
       "\n",
       "    .dataframe tbody tr th {\n",
       "        vertical-align: top;\n",
       "    }\n",
       "\n",
       "    .dataframe thead th {\n",
       "        text-align: right;\n",
       "    }\n",
       "</style>\n",
       "<table border=\"1\" class=\"dataframe\">\n",
       "  <thead>\n",
       "    <tr style=\"text-align: right;\">\n",
       "      <th></th>\n",
       "      <th>Word</th>\n",
       "      <th>Frequency</th>\n",
       "    </tr>\n",
       "  </thead>\n",
       "  <tbody>\n",
       "    <tr>\n",
       "      <th>0</th>\n",
       "      <td>の</td>\n",
       "      <td>1612852</td>\n",
       "    </tr>\n",
       "    <tr>\n",
       "      <th>1</th>\n",
       "      <td>に</td>\n",
       "      <td>912916</td>\n",
       "    </tr>\n",
       "    <tr>\n",
       "      <th>2</th>\n",
       "      <td>を</td>\n",
       "      <td>894982</td>\n",
       "    </tr>\n",
       "  </tbody>\n",
       "</table>\n",
       "</div>"
      ],
      "text/plain": [
       "  Word  Frequency\n",
       "0    の    1612852\n",
       "1    に     912916\n",
       "2    を     894982"
      ]
     },
     "execution_count": 30,
     "metadata": {},
     "output_type": "execute_result"
    }
   ],
   "source": [
    "freq_df.head(3)"
   ]
  },
  {
   "cell_type": "code",
   "execution_count": 31,
   "metadata": {},
   "outputs": [
    {
     "data": {
      "text/html": [
       "<div>\n",
       "<style scoped>\n",
       "    .dataframe tbody tr th:only-of-type {\n",
       "        vertical-align: middle;\n",
       "    }\n",
       "\n",
       "    .dataframe tbody tr th {\n",
       "        vertical-align: top;\n",
       "    }\n",
       "\n",
       "    .dataframe thead th {\n",
       "        text-align: right;\n",
       "    }\n",
       "</style>\n",
       "<table border=\"1\" class=\"dataframe\">\n",
       "  <thead>\n",
       "    <tr style=\"text-align: right;\">\n",
       "      <th></th>\n",
       "      <th>Word</th>\n",
       "      <th>Frequency</th>\n",
       "    </tr>\n",
       "  </thead>\n",
       "  <tbody>\n",
       "    <tr>\n",
       "      <th>244</th>\n",
       "      <td>字</td>\n",
       "      <td>9962</td>\n",
       "    </tr>\n",
       "  </tbody>\n",
       "</table>\n",
       "</div>"
      ],
      "text/plain": [
       "    Word  Frequency\n",
       "244    字       9962"
      ]
     },
     "execution_count": 31,
     "metadata": {},
     "output_type": "execute_result"
    }
   ],
   "source": [
    "freq_df[freq_df[\"Word\"] == \"字\"]"
   ]
  },
  {
   "cell_type": "code",
   "execution_count": 32,
   "metadata": {},
   "outputs": [
    {
     "data": {
      "text/html": [
       "<div>\n",
       "<style scoped>\n",
       "    .dataframe tbody tr th:only-of-type {\n",
       "        vertical-align: middle;\n",
       "    }\n",
       "\n",
       "    .dataframe tbody tr th {\n",
       "        vertical-align: top;\n",
       "    }\n",
       "\n",
       "    .dataframe thead th {\n",
       "        text-align: right;\n",
       "    }\n",
       "</style>\n",
       "<table border=\"1\" class=\"dataframe\">\n",
       "  <thead>\n",
       "    <tr style=\"text-align: right;\">\n",
       "      <th></th>\n",
       "      <th>Word</th>\n",
       "      <th>Frequency</th>\n",
       "    </tr>\n",
       "  </thead>\n",
       "  <tbody>\n",
       "    <tr>\n",
       "      <th>3043</th>\n",
       "      <td>遺伝</td>\n",
       "      <td>1066</td>\n",
       "    </tr>\n",
       "    <tr>\n",
       "      <th>3451</th>\n",
       "      <td>遺伝子</td>\n",
       "      <td>924</td>\n",
       "    </tr>\n",
       "  </tbody>\n",
       "</table>\n",
       "</div>"
      ],
      "text/plain": [
       "     Word  Frequency\n",
       "3043   遺伝       1066\n",
       "3451  遺伝子        924"
      ]
     },
     "execution_count": 32,
     "metadata": {},
     "output_type": "execute_result"
    }
   ],
   "source": [
    "freq_df[freq_df[\"Word\"].str.contains(\"遺伝\")]"
   ]
  },
  {
   "cell_type": "code",
   "execution_count": 33,
   "metadata": {},
   "outputs": [
    {
     "data": {
      "text/plain": [
       "1990"
      ]
     },
     "execution_count": 33,
     "metadata": {},
     "output_type": "execute_result"
    }
   ],
   "source": [
    "freq_df[freq_df[\"Word\"].str.contains('遺伝')].sum()[\"Frequency\"]\n",
    "#gets the sum of the strings that contain the char\n",
    "#sums each column"
   ]
  },
  {
   "cell_type": "code",
   "execution_count": 34,
   "metadata": {},
   "outputs": [],
   "source": [
    "# from here, I will just use the csv titled 'k_freq.csv'.\n",
    "# the above code was to show the method I went about making 'k_freq.csv'\n",
    "# can find the code in https://github.com/LexingtonWhalen/KanjiStrokesAnalysis/blob/main/analysis.ipynb\n",
    "# also watch the video provided if confused"
   ]
  },
  {
   "cell_type": "code",
   "execution_count": 35,
   "metadata": {},
   "outputs": [],
   "source": [
    "k_freq_df = pd.read_csv(\"k_freq.csv\")"
   ]
  },
  {
   "cell_type": "code",
   "execution_count": 36,
   "metadata": {},
   "outputs": [],
   "source": [
    "k_freq_df.sort_values(by=\"Frequency\",ascending=False,inplace=True)"
   ]
  },
  {
   "cell_type": "code",
   "execution_count": 37,
   "metadata": {},
   "outputs": [],
   "source": [
    "# for future convenience\n",
    "#k_freq_df.to_csv(\"k_freq_descending.csv\")"
   ]
  },
  {
   "cell_type": "code",
   "execution_count": 38,
   "metadata": {},
   "outputs": [
    {
     "data": {
      "text/html": [
       "<div>\n",
       "<style scoped>\n",
       "    .dataframe tbody tr th:only-of-type {\n",
       "        vertical-align: middle;\n",
       "    }\n",
       "\n",
       "    .dataframe tbody tr th {\n",
       "        vertical-align: top;\n",
       "    }\n",
       "\n",
       "    .dataframe thead th {\n",
       "        text-align: right;\n",
       "    }\n",
       "</style>\n",
       "<table border=\"1\" class=\"dataframe\">\n",
       "  <thead>\n",
       "    <tr style=\"text-align: right;\">\n",
       "      <th></th>\n",
       "      <th>Kanji</th>\n",
       "      <th>Frequency</th>\n",
       "    </tr>\n",
       "  </thead>\n",
       "  <tbody>\n",
       "    <tr>\n",
       "      <th>3052</th>\n",
       "      <td>人</td>\n",
       "      <td>207991</td>\n",
       "    </tr>\n",
       "    <tr>\n",
       "      <th>4927</th>\n",
       "      <td>字</td>\n",
       "      <td>202950</td>\n",
       "    </tr>\n",
       "  </tbody>\n",
       "</table>\n",
       "</div>"
      ],
      "text/plain": [
       "     Kanji  Frequency\n",
       "3052     人     207991\n",
       "4927     字     202950"
      ]
     },
     "execution_count": 38,
     "metadata": {},
     "output_type": "execute_result"
    }
   ],
   "source": [
    "k_freq_df.head(2)"
   ]
  },
  {
   "cell_type": "code",
   "execution_count": 39,
   "metadata": {},
   "outputs": [
    {
     "data": {
      "text/html": [
       "<div>\n",
       "<style scoped>\n",
       "    .dataframe tbody tr th:only-of-type {\n",
       "        vertical-align: middle;\n",
       "    }\n",
       "\n",
       "    .dataframe tbody tr th {\n",
       "        vertical-align: top;\n",
       "    }\n",
       "\n",
       "    .dataframe thead th {\n",
       "        text-align: right;\n",
       "    }\n",
       "</style>\n",
       "<table border=\"1\" class=\"dataframe\">\n",
       "  <thead>\n",
       "    <tr style=\"text-align: right;\">\n",
       "      <th></th>\n",
       "      <th>Kanji</th>\n",
       "      <th>Onyomi</th>\n",
       "      <th>Kunyomi</th>\n",
       "    </tr>\n",
       "  </thead>\n",
       "  <tbody>\n",
       "    <tr>\n",
       "      <th>0</th>\n",
       "      <td>一</td>\n",
       "      <td>イチ、イツ</td>\n",
       "      <td>ひと-、ひと.つ</td>\n",
       "    </tr>\n",
       "    <tr>\n",
       "      <th>1</th>\n",
       "      <td>二</td>\n",
       "      <td>ニ、ジ</td>\n",
       "      <td>ふた、ふた.つ、ふたたび</td>\n",
       "    </tr>\n",
       "  </tbody>\n",
       "</table>\n",
       "</div>"
      ],
      "text/plain": [
       "  Kanji Onyomi       Kunyomi\n",
       "0     一  イチ、イツ      ひと-、ひと.つ\n",
       "1     二    ニ、ジ  ふた、ふた.つ、ふたたび"
      ]
     },
     "execution_count": 39,
     "metadata": {},
     "output_type": "execute_result"
    }
   ],
   "source": [
    "df_slim.head(2)"
   ]
  },
  {
   "cell_type": "code",
   "execution_count": 40,
   "metadata": {},
   "outputs": [],
   "source": [
    "# merge for the frequency data\n",
    "merged = df_slim.merge(k_freq_df,left_on=\"Kanji\",right_on=\"Kanji\")"
   ]
  },
  {
   "cell_type": "code",
   "execution_count": 41,
   "metadata": {},
   "outputs": [
    {
     "data": {
      "text/html": [
       "<div>\n",
       "<style scoped>\n",
       "    .dataframe tbody tr th:only-of-type {\n",
       "        vertical-align: middle;\n",
       "    }\n",
       "\n",
       "    .dataframe tbody tr th {\n",
       "        vertical-align: top;\n",
       "    }\n",
       "\n",
       "    .dataframe thead th {\n",
       "        text-align: right;\n",
       "    }\n",
       "</style>\n",
       "<table border=\"1\" class=\"dataframe\">\n",
       "  <thead>\n",
       "    <tr style=\"text-align: right;\">\n",
       "      <th></th>\n",
       "      <th>Kanji</th>\n",
       "      <th>Onyomi</th>\n",
       "      <th>Kunyomi</th>\n",
       "      <th>Frequency</th>\n",
       "    </tr>\n",
       "  </thead>\n",
       "  <tbody>\n",
       "    <tr>\n",
       "      <th>0</th>\n",
       "      <td>一</td>\n",
       "      <td>イチ、イツ</td>\n",
       "      <td>ひと-、ひと.つ</td>\n",
       "      <td>104644</td>\n",
       "    </tr>\n",
       "    <tr>\n",
       "      <th>1</th>\n",
       "      <td>二</td>\n",
       "      <td>ニ、ジ</td>\n",
       "      <td>ふた、ふた.つ、ふたたび</td>\n",
       "      <td>73435</td>\n",
       "    </tr>\n",
       "    <tr>\n",
       "      <th>2</th>\n",
       "      <td>三</td>\n",
       "      <td>サン、ゾウ</td>\n",
       "      <td>み、み.つ、みっ.つ</td>\n",
       "      <td>60231</td>\n",
       "    </tr>\n",
       "  </tbody>\n",
       "</table>\n",
       "</div>"
      ],
      "text/plain": [
       "  Kanji Onyomi       Kunyomi  Frequency\n",
       "0     一  イチ、イツ      ひと-、ひと.つ     104644\n",
       "1     二    ニ、ジ  ふた、ふた.つ、ふたたび      73435\n",
       "2     三  サン、ゾウ    み、み.つ、みっ.つ      60231"
      ]
     },
     "execution_count": 41,
     "metadata": {},
     "output_type": "execute_result"
    }
   ],
   "source": [
    "merged.head(3)"
   ]
  },
  {
   "cell_type": "code",
   "execution_count": 42,
   "metadata": {},
   "outputs": [
    {
     "data": {
      "text/html": [
       "<div>\n",
       "<style scoped>\n",
       "    .dataframe tbody tr th:only-of-type {\n",
       "        vertical-align: middle;\n",
       "    }\n",
       "\n",
       "    .dataframe tbody tr th {\n",
       "        vertical-align: top;\n",
       "    }\n",
       "\n",
       "    .dataframe thead th {\n",
       "        text-align: right;\n",
       "    }\n",
       "</style>\n",
       "<table border=\"1\" class=\"dataframe\">\n",
       "  <thead>\n",
       "    <tr style=\"text-align: right;\">\n",
       "      <th></th>\n",
       "      <th>Kanji</th>\n",
       "      <th>Onyomi</th>\n",
       "      <th>Kunyomi</th>\n",
       "      <th>Frequency</th>\n",
       "    </tr>\n",
       "  </thead>\n",
       "  <tbody>\n",
       "    <tr>\n",
       "      <th>59</th>\n",
       "      <td>字</td>\n",
       "      <td>ジ</td>\n",
       "      <td>あざ、あざな、-な</td>\n",
       "      <td>202950</td>\n",
       "    </tr>\n",
       "  </tbody>\n",
       "</table>\n",
       "</div>"
      ],
      "text/plain": [
       "   Kanji Onyomi    Kunyomi  Frequency\n",
       "59     字      ジ  あざ、あざな、-な     202950"
      ]
     },
     "execution_count": 42,
     "metadata": {},
     "output_type": "execute_result"
    }
   ],
   "source": [
    "# testing to see if correct\n",
    "merged[merged[\"Kanji\"]==\"字\"]"
   ]
  },
  {
   "cell_type": "code",
   "execution_count": 43,
   "metadata": {},
   "outputs": [],
   "source": [
    "merged.sort_values(by=\"Frequency\",ascending=False,inplace=True)"
   ]
  },
  {
   "cell_type": "code",
   "execution_count": 44,
   "metadata": {},
   "outputs": [
    {
     "data": {
      "text/html": [
       "<div>\n",
       "<style scoped>\n",
       "    .dataframe tbody tr th:only-of-type {\n",
       "        vertical-align: middle;\n",
       "    }\n",
       "\n",
       "    .dataframe tbody tr th {\n",
       "        vertical-align: top;\n",
       "    }\n",
       "\n",
       "    .dataframe thead th {\n",
       "        text-align: right;\n",
       "    }\n",
       "</style>\n",
       "<table border=\"1\" class=\"dataframe\">\n",
       "  <thead>\n",
       "    <tr style=\"text-align: right;\">\n",
       "      <th></th>\n",
       "      <th>Kanji</th>\n",
       "      <th>Onyomi</th>\n",
       "      <th>Kunyomi</th>\n",
       "      <th>Frequency</th>\n",
       "    </tr>\n",
       "  </thead>\n",
       "  <tbody>\n",
       "    <tr>\n",
       "      <th>36</th>\n",
       "      <td>人</td>\n",
       "      <td>ジン、ニン</td>\n",
       "      <td>ひと、-り、-と</td>\n",
       "      <td>207991</td>\n",
       "    </tr>\n",
       "    <tr>\n",
       "      <th>59</th>\n",
       "      <td>字</td>\n",
       "      <td>ジ</td>\n",
       "      <td>あざ、あざな、-な</td>\n",
       "      <td>202950</td>\n",
       "    </tr>\n",
       "    <tr>\n",
       "      <th>330</th>\n",
       "      <td>物</td>\n",
       "      <td>ブツ、モツ</td>\n",
       "      <td>もの、もの-</td>\n",
       "      <td>184556</td>\n",
       "    </tr>\n",
       "  </tbody>\n",
       "</table>\n",
       "</div>"
      ],
      "text/plain": [
       "    Kanji Onyomi    Kunyomi  Frequency\n",
       "36      人  ジン、ニン   ひと、-り、-と     207991\n",
       "59      字      ジ  あざ、あざな、-な     202950\n",
       "330     物  ブツ、モツ     もの、もの-     184556"
      ]
     },
     "execution_count": 44,
     "metadata": {},
     "output_type": "execute_result"
    }
   ],
   "source": [
    "merged.head(3)"
   ]
  },
  {
   "cell_type": "code",
   "execution_count": 45,
   "metadata": {},
   "outputs": [
    {
     "data": {
      "text/plain": [
       "['イチ、イツ']"
      ]
     },
     "execution_count": 45,
     "metadata": {},
     "output_type": "execute_result"
    }
   ],
   "source": [
    "# now get the onyomi and kunyomi separately\n",
    "merged[\"Onyomi\"][0].split(\",\")"
   ]
  },
  {
   "cell_type": "code",
   "execution_count": 46,
   "metadata": {},
   "outputs": [],
   "source": [
    "def get_list_and_set(column,delim):\n",
    "    l = []\n",
    "    for i in column:\n",
    "        l += i.split(\"{}\".format(delim))\n",
    "    return l, set(l)"
   ]
  },
  {
   "cell_type": "code",
   "execution_count": 47,
   "metadata": {},
   "outputs": [],
   "source": [
    "# note we are splitting on \"、\" not \",\" -> the commas are different!\n",
    "onyomi_list,onyomi_set  = get_list_and_set(merged[\"Onyomi\"],\"、\")\n",
    "kunyomi_list,kunyomi_set  = get_list_and_set(merged[\"Kunyomi\"],\"、\")"
   ]
  },
  {
   "cell_type": "code",
   "execution_count": 48,
   "metadata": {},
   "outputs": [
    {
     "name": "stdout",
     "output_type": "stream",
     "text": [
      "Onyomi List len: 3052, set len: 352\n",
      "Kunyomi List len: 4518, set len: 3219\n"
     ]
    }
   ],
   "source": [
    "print(\"Onyomi List len: {}, set len: {}\".format(len(onyomi_list),len(onyomi_set)))\n",
    "print(\"Kunyomi List len: {}, set len: {}\".format(len(kunyomi_list),len(kunyomi_set)))"
   ]
  },
  {
   "cell_type": "code",
   "execution_count": 49,
   "metadata": {},
   "outputs": [
    {
     "data": {
      "text/html": [
       "<div>\n",
       "<style scoped>\n",
       "    .dataframe tbody tr th:only-of-type {\n",
       "        vertical-align: middle;\n",
       "    }\n",
       "\n",
       "    .dataframe tbody tr th {\n",
       "        vertical-align: top;\n",
       "    }\n",
       "\n",
       "    .dataframe thead th {\n",
       "        text-align: right;\n",
       "    }\n",
       "</style>\n",
       "<table border=\"1\" class=\"dataframe\">\n",
       "  <thead>\n",
       "    <tr style=\"text-align: right;\">\n",
       "      <th></th>\n",
       "      <th>Kanji</th>\n",
       "      <th>Onyomi</th>\n",
       "      <th>Kunyomi</th>\n",
       "      <th>Frequency</th>\n",
       "    </tr>\n",
       "  </thead>\n",
       "  <tbody>\n",
       "    <tr>\n",
       "      <th>36</th>\n",
       "      <td>人</td>\n",
       "      <td>ジン、ニン</td>\n",
       "      <td>ひと、-り、-と</td>\n",
       "      <td>207991</td>\n",
       "    </tr>\n",
       "    <tr>\n",
       "      <th>59</th>\n",
       "      <td>字</td>\n",
       "      <td>ジ</td>\n",
       "      <td>あざ、あざな、-な</td>\n",
       "      <td>202950</td>\n",
       "    </tr>\n",
       "    <tr>\n",
       "      <th>330</th>\n",
       "      <td>物</td>\n",
       "      <td>ブツ、モツ</td>\n",
       "      <td>もの、もの-</td>\n",
       "      <td>184556</td>\n",
       "    </tr>\n",
       "  </tbody>\n",
       "</table>\n",
       "</div>"
      ],
      "text/plain": [
       "    Kanji Onyomi    Kunyomi  Frequency\n",
       "36      人  ジン、ニン   ひと、-り、-と     207991\n",
       "59      字      ジ  あざ、あざな、-な     202950\n",
       "330     物  ブツ、モツ     もの、もの-     184556"
      ]
     },
     "execution_count": 49,
     "metadata": {},
     "output_type": "execute_result"
    }
   ],
   "source": [
    "merged.head(3)"
   ]
  },
  {
   "cell_type": "code",
   "execution_count": 50,
   "metadata": {},
   "outputs": [],
   "source": [
    "def search_sound(sound,readingType):\n",
    "    count = 0\n",
    "    for n, i in enumerate(merged[readingType]):\n",
    "        if(sound in i.split(\"、\")):\n",
    "            kanji = merged.iloc[n][\"Kanji\"]\n",
    "            frequency = merged.iloc[n][\"Frequency\"]\n",
    "            #print(\"{}: {}\".format(kanji,frequency))\n",
    "            count += int(frequency)\n",
    "            \n",
    "            \n",
    "    return count"
   ]
  },
  {
   "cell_type": "code",
   "execution_count": 51,
   "metadata": {},
   "outputs": [
    {
     "name": "stdout",
     "output_type": "stream",
     "text": [
      "61545\n"
     ]
    }
   ],
   "source": [
    "print(search_sound(\"ベン\",readingType=\"Onyomi\"))"
   ]
  },
  {
   "cell_type": "code",
   "execution_count": 52,
   "metadata": {},
   "outputs": [],
   "source": [
    "onyomi_d = {\"Reading\":[],\"Frequency\":[]}\n",
    "for i in onyomi_set:\n",
    "    onyomi_d[\"Reading\"].append(i)\n",
    "    onyomi_d[\"Frequency\"].append(search_sound(i,readingType=\"Onyomi\"))"
   ]
  },
  {
   "cell_type": "code",
   "execution_count": null,
   "metadata": {},
   "outputs": [],
   "source": []
  },
  {
   "cell_type": "code",
   "execution_count": 53,
   "metadata": {},
   "outputs": [],
   "source": [
    "onyomi_df = pd.DataFrame(onyomi_d)"
   ]
  },
  {
   "cell_type": "code",
   "execution_count": 54,
   "metadata": {},
   "outputs": [],
   "source": [
    "onyomi_df.sort_values(by=\"Frequency\",ascending=False,inplace=True)"
   ]
  },
  {
   "cell_type": "code",
   "execution_count": 55,
   "metadata": {},
   "outputs": [],
   "source": [
    "#onyomi_df"
   ]
  },
  {
   "cell_type": "code",
   "execution_count": 56,
   "metadata": {},
   "outputs": [],
   "source": [
    "# now do the same with kunyomi\n",
    "kunyomi_d = {\"Reading\":[],\"Frequency\":[]}\n",
    "for i in kunyomi_set:\n",
    "    kunyomi_d[\"Reading\"].append(i)\n",
    "    kunyomi_d[\"Frequency\"].append(search_sound(i,readingType=\"Kunyomi\"))"
   ]
  },
  {
   "cell_type": "code",
   "execution_count": 57,
   "metadata": {},
   "outputs": [],
   "source": [
    "kunyomi_df = pd.DataFrame(kunyomi_d)"
   ]
  },
  {
   "cell_type": "code",
   "execution_count": 58,
   "metadata": {},
   "outputs": [],
   "source": [
    "kunyomi_df.sort_values(by=\"Frequency\",ascending =False,inplace = True)"
   ]
  },
  {
   "cell_type": "code",
   "execution_count": 59,
   "metadata": {},
   "outputs": [
    {
     "data": {
      "text/html": [
       "<div>\n",
       "<style scoped>\n",
       "    .dataframe tbody tr th:only-of-type {\n",
       "        vertical-align: middle;\n",
       "    }\n",
       "\n",
       "    .dataframe tbody tr th {\n",
       "        vertical-align: top;\n",
       "    }\n",
       "\n",
       "    .dataframe thead th {\n",
       "        text-align: right;\n",
       "    }\n",
       "</style>\n",
       "<table border=\"1\" class=\"dataframe\">\n",
       "  <thead>\n",
       "    <tr style=\"text-align: right;\">\n",
       "      <th></th>\n",
       "      <th>Reading</th>\n",
       "      <th>Frequency</th>\n",
       "    </tr>\n",
       "  </thead>\n",
       "  <tbody>\n",
       "    <tr>\n",
       "      <th>68</th>\n",
       "      <td>-な</td>\n",
       "      <td>351443</td>\n",
       "    </tr>\n",
       "    <tr>\n",
       "      <th>145</th>\n",
       "      <td>もと</td>\n",
       "      <td>276847</td>\n",
       "    </tr>\n",
       "    <tr>\n",
       "      <th>448</th>\n",
       "      <td>もの</td>\n",
       "      <td>267006</td>\n",
       "    </tr>\n",
       "    <tr>\n",
       "      <th>1708</th>\n",
       "      <td>はか.る</td>\n",
       "      <td>247561</td>\n",
       "    </tr>\n",
       "    <tr>\n",
       "      <th>1868</th>\n",
       "      <td>うち</td>\n",
       "      <td>237039</td>\n",
       "    </tr>\n",
       "  </tbody>\n",
       "</table>\n",
       "</div>"
      ],
      "text/plain": [
       "     Reading  Frequency\n",
       "68        -な     351443\n",
       "145       もと     276847\n",
       "448       もの     267006\n",
       "1708    はか.る     247561\n",
       "1868      うち     237039"
      ]
     },
     "execution_count": 59,
     "metadata": {},
     "output_type": "execute_result"
    }
   ],
   "source": [
    "kunyomi_df.head()"
   ]
  },
  {
   "cell_type": "code",
   "execution_count": 60,
   "metadata": {},
   "outputs": [
    {
     "data": {
      "text/html": [
       "<div>\n",
       "<style scoped>\n",
       "    .dataframe tbody tr th:only-of-type {\n",
       "        vertical-align: middle;\n",
       "    }\n",
       "\n",
       "    .dataframe tbody tr th {\n",
       "        vertical-align: top;\n",
       "    }\n",
       "\n",
       "    .dataframe thead th {\n",
       "        text-align: right;\n",
       "    }\n",
       "</style>\n",
       "<table border=\"1\" class=\"dataframe\">\n",
       "  <thead>\n",
       "    <tr style=\"text-align: right;\">\n",
       "      <th></th>\n",
       "      <th>Kanji</th>\n",
       "      <th>Onyomi</th>\n",
       "      <th>Kunyomi</th>\n",
       "      <th>Frequency</th>\n",
       "    </tr>\n",
       "  </thead>\n",
       "  <tbody>\n",
       "    <tr>\n",
       "      <th>36</th>\n",
       "      <td>人</td>\n",
       "      <td>ジン、ニン</td>\n",
       "      <td>ひと、-り、-と</td>\n",
       "      <td>207991</td>\n",
       "    </tr>\n",
       "    <tr>\n",
       "      <th>59</th>\n",
       "      <td>字</td>\n",
       "      <td>ジ</td>\n",
       "      <td>あざ、あざな、-な</td>\n",
       "      <td>202950</td>\n",
       "    </tr>\n",
       "    <tr>\n",
       "      <th>330</th>\n",
       "      <td>物</td>\n",
       "      <td>ブツ、モツ</td>\n",
       "      <td>もの、もの-</td>\n",
       "      <td>184556</td>\n",
       "    </tr>\n",
       "  </tbody>\n",
       "</table>\n",
       "</div>"
      ],
      "text/plain": [
       "    Kanji Onyomi    Kunyomi  Frequency\n",
       "36      人  ジン、ニン   ひと、-り、-と     207991\n",
       "59      字      ジ  あざ、あざな、-な     202950\n",
       "330     物  ブツ、モツ     もの、もの-     184556"
      ]
     },
     "execution_count": 60,
     "metadata": {},
     "output_type": "execute_result"
    }
   ],
   "source": [
    "merged.head(3)"
   ]
  },
  {
   "cell_type": "code",
   "execution_count": 61,
   "metadata": {},
   "outputs": [],
   "source": [
    "def get_most_common_kanji(sound,reading_type):\n",
    "    for n, i in enumerate(merged[reading_type]):\n",
    "        if(sound in i.split(\"、\")):\n",
    "            return (merged.iloc[n][\"Kanji\"])"
   ]
  },
  {
   "cell_type": "code",
   "execution_count": 62,
   "metadata": {},
   "outputs": [
    {
     "data": {
      "text/plain": [
       "'人'"
      ]
     },
     "execution_count": 62,
     "metadata": {},
     "output_type": "execute_result"
    }
   ],
   "source": [
    "get_most_common_kanji(\"ジン\",\"Onyomi\")"
   ]
  },
  {
   "cell_type": "code",
   "execution_count": 63,
   "metadata": {},
   "outputs": [],
   "source": [
    "most_common_onyomi_char = []\n",
    "for reading in onyomi_df[\"Reading\"]:\n",
    "    most_common_onyomi_char.append(get_most_common_kanji(reading,\"Onyomi\"))"
   ]
  },
  {
   "cell_type": "code",
   "execution_count": 64,
   "metadata": {},
   "outputs": [],
   "source": [
    "#most_common_onyomi_char"
   ]
  },
  {
   "cell_type": "code",
   "execution_count": 65,
   "metadata": {},
   "outputs": [],
   "source": [
    "onyomi_df[\"Most Common Kanji\"] = most_common_onyomi_char"
   ]
  },
  {
   "cell_type": "code",
   "execution_count": 66,
   "metadata": {},
   "outputs": [],
   "source": [
    "#onyomi_df"
   ]
  },
  {
   "cell_type": "code",
   "execution_count": 67,
   "metadata": {},
   "outputs": [],
   "source": [
    "# now for the kunyomi!\n",
    "most_common_kunyomi_char = []\n",
    "for reading in kunyomi_df[\"Reading\"]:\n",
    "    most_common_kunyomi_char.append(get_most_common_kanji(reading,\"Kunyomi\"))"
   ]
  },
  {
   "cell_type": "code",
   "execution_count": 68,
   "metadata": {},
   "outputs": [],
   "source": [
    "#most_common_kunyomi_char"
   ]
  },
  {
   "cell_type": "code",
   "execution_count": 69,
   "metadata": {},
   "outputs": [],
   "source": [
    "kunyomi_df[\"Most Common Kanji\"] = most_common_kunyomi_char"
   ]
  },
  {
   "cell_type": "code",
   "execution_count": 70,
   "metadata": {},
   "outputs": [
    {
     "data": {
      "text/html": [
       "<div>\n",
       "<style scoped>\n",
       "    .dataframe tbody tr th:only-of-type {\n",
       "        vertical-align: middle;\n",
       "    }\n",
       "\n",
       "    .dataframe tbody tr th {\n",
       "        vertical-align: top;\n",
       "    }\n",
       "\n",
       "    .dataframe thead th {\n",
       "        text-align: right;\n",
       "    }\n",
       "</style>\n",
       "<table border=\"1\" class=\"dataframe\">\n",
       "  <thead>\n",
       "    <tr style=\"text-align: right;\">\n",
       "      <th></th>\n",
       "      <th>Reading</th>\n",
       "      <th>Frequency</th>\n",
       "      <th>Most Common Kanji</th>\n",
       "    </tr>\n",
       "  </thead>\n",
       "  <tbody>\n",
       "    <tr>\n",
       "      <th>68</th>\n",
       "      <td>-な</td>\n",
       "      <td>351443</td>\n",
       "      <td>字</td>\n",
       "    </tr>\n",
       "    <tr>\n",
       "      <th>145</th>\n",
       "      <td>もと</td>\n",
       "      <td>276847</td>\n",
       "      <td>下</td>\n",
       "    </tr>\n",
       "    <tr>\n",
       "      <th>448</th>\n",
       "      <td>もの</td>\n",
       "      <td>267006</td>\n",
       "      <td>物</td>\n",
       "    </tr>\n",
       "    <tr>\n",
       "      <th>1708</th>\n",
       "      <td>はか.る</td>\n",
       "      <td>247561</td>\n",
       "      <td>画</td>\n",
       "    </tr>\n",
       "    <tr>\n",
       "      <th>1868</th>\n",
       "      <td>うち</td>\n",
       "      <td>237039</td>\n",
       "      <td>中</td>\n",
       "    </tr>\n",
       "  </tbody>\n",
       "</table>\n",
       "</div>"
      ],
      "text/plain": [
       "     Reading  Frequency Most Common Kanji\n",
       "68        -な     351443                 字\n",
       "145       もと     276847                 下\n",
       "448       もの     267006                 物\n",
       "1708    はか.る     247561                 画\n",
       "1868      うち     237039                 中"
      ]
     },
     "execution_count": 70,
     "metadata": {},
     "output_type": "execute_result"
    }
   ],
   "source": [
    "kunyomi_df.head()"
   ]
  },
  {
   "cell_type": "code",
   "execution_count": 71,
   "metadata": {},
   "outputs": [
    {
     "data": {
      "text/html": [
       "<div>\n",
       "<style scoped>\n",
       "    .dataframe tbody tr th:only-of-type {\n",
       "        vertical-align: middle;\n",
       "    }\n",
       "\n",
       "    .dataframe tbody tr th {\n",
       "        vertical-align: top;\n",
       "    }\n",
       "\n",
       "    .dataframe thead th {\n",
       "        text-align: right;\n",
       "    }\n",
       "</style>\n",
       "<table border=\"1\" class=\"dataframe\">\n",
       "  <thead>\n",
       "    <tr style=\"text-align: right;\">\n",
       "      <th></th>\n",
       "      <th>Kanji</th>\n",
       "      <th>Onyomi</th>\n",
       "      <th>Kunyomi</th>\n",
       "      <th>Frequency</th>\n",
       "    </tr>\n",
       "  </thead>\n",
       "  <tbody>\n",
       "    <tr>\n",
       "      <th>59</th>\n",
       "      <td>字</td>\n",
       "      <td>ジ</td>\n",
       "      <td>あざ、あざな、-な</td>\n",
       "      <td>202950</td>\n",
       "    </tr>\n",
       "  </tbody>\n",
       "</table>\n",
       "</div>"
      ],
      "text/plain": [
       "   Kanji Onyomi    Kunyomi  Frequency\n",
       "59     字      ジ  あざ、あざな、-な     202950"
      ]
     },
     "execution_count": 71,
     "metadata": {},
     "output_type": "execute_result"
    }
   ],
   "source": [
    "#surprising\n",
    "merged[merged[\"Kanji\"] == \"字\" ]"
   ]
  },
  {
   "cell_type": "code",
   "execution_count": 72,
   "metadata": {},
   "outputs": [
    {
     "data": {
      "text/plain": [
       "29001873"
      ]
     },
     "execution_count": 72,
     "metadata": {},
     "output_type": "execute_result"
    }
   ],
   "source": [
    "#getting relative freqs\n",
    "onyomi_df[\"Frequency\"].sum()"
   ]
  },
  {
   "cell_type": "code",
   "execution_count": 73,
   "metadata": {},
   "outputs": [],
   "source": [
    "onyomi_df[\"Relative Frequency\"] = (onyomi_df[\"Frequency\"] / onyomi_df[\"Frequency\"].sum())*100"
   ]
  },
  {
   "cell_type": "code",
   "execution_count": 74,
   "metadata": {},
   "outputs": [],
   "source": [
    "kunyomi_df[\"Relative Frequency\"] = (kunyomi_df[\"Frequency\"] / kunyomi_df[\"Frequency\"].sum())*100"
   ]
  },
  {
   "cell_type": "code",
   "execution_count": 75,
   "metadata": {},
   "outputs": [
    {
     "data": {
      "text/html": [
       "<div>\n",
       "<style scoped>\n",
       "    .dataframe tbody tr th:only-of-type {\n",
       "        vertical-align: middle;\n",
       "    }\n",
       "\n",
       "    .dataframe tbody tr th {\n",
       "        vertical-align: top;\n",
       "    }\n",
       "\n",
       "    .dataframe thead th {\n",
       "        text-align: right;\n",
       "    }\n",
       "</style>\n",
       "<table border=\"1\" class=\"dataframe\">\n",
       "  <thead>\n",
       "    <tr style=\"text-align: right;\">\n",
       "      <th></th>\n",
       "      <th>Reading</th>\n",
       "      <th>Frequency</th>\n",
       "      <th>Most Common Kanji</th>\n",
       "      <th>Relative Frequency</th>\n",
       "    </tr>\n",
       "  </thead>\n",
       "  <tbody>\n",
       "    <tr>\n",
       "      <th>145</th>\n",
       "      <td>ショウ</td>\n",
       "      <td>845600</td>\n",
       "      <td>生</td>\n",
       "      <td>2.915674</td>\n",
       "    </tr>\n",
       "    <tr>\n",
       "      <th>339</th>\n",
       "      <td>ジ</td>\n",
       "      <td>697746</td>\n",
       "      <td>字</td>\n",
       "      <td>2.405865</td>\n",
       "    </tr>\n",
       "    <tr>\n",
       "      <th>138</th>\n",
       "      <td>シ</td>\n",
       "      <td>680068</td>\n",
       "      <td>子</td>\n",
       "      <td>2.344911</td>\n",
       "    </tr>\n",
       "    <tr>\n",
       "      <th>108</th>\n",
       "      <td>コウ</td>\n",
       "      <td>624635</td>\n",
       "      <td>行</td>\n",
       "      <td>2.153775</td>\n",
       "    </tr>\n",
       "    <tr>\n",
       "      <th>6</th>\n",
       "      <td>カ</td>\n",
       "      <td>540322</td>\n",
       "      <td>下</td>\n",
       "      <td>1.863059</td>\n",
       "    </tr>\n",
       "  </tbody>\n",
       "</table>\n",
       "</div>"
      ],
      "text/plain": [
       "    Reading  Frequency Most Common Kanji  Relative Frequency\n",
       "145     ショウ     845600                 生            2.915674\n",
       "339       ジ     697746                 字            2.405865\n",
       "138       シ     680068                 子            2.344911\n",
       "108      コウ     624635                 行            2.153775\n",
       "6         カ     540322                 下            1.863059"
      ]
     },
     "execution_count": 75,
     "metadata": {},
     "output_type": "execute_result"
    }
   ],
   "source": [
    "onyomi_df.head()"
   ]
  },
  {
   "cell_type": "code",
   "execution_count": 76,
   "metadata": {},
   "outputs": [
    {
     "data": {
      "text/html": [
       "<div>\n",
       "<style scoped>\n",
       "    .dataframe tbody tr th:only-of-type {\n",
       "        vertical-align: middle;\n",
       "    }\n",
       "\n",
       "    .dataframe tbody tr th {\n",
       "        vertical-align: top;\n",
       "    }\n",
       "\n",
       "    .dataframe thead th {\n",
       "        text-align: right;\n",
       "    }\n",
       "</style>\n",
       "<table border=\"1\" class=\"dataframe\">\n",
       "  <thead>\n",
       "    <tr style=\"text-align: right;\">\n",
       "      <th></th>\n",
       "      <th>Reading</th>\n",
       "      <th>Frequency</th>\n",
       "      <th>Most Common Kanji</th>\n",
       "      <th>Relative Frequency</th>\n",
       "    </tr>\n",
       "  </thead>\n",
       "  <tbody>\n",
       "    <tr>\n",
       "      <th>68</th>\n",
       "      <td>-な</td>\n",
       "      <td>351443</td>\n",
       "      <td>字</td>\n",
       "      <td>0.662355</td>\n",
       "    </tr>\n",
       "    <tr>\n",
       "      <th>145</th>\n",
       "      <td>もと</td>\n",
       "      <td>276847</td>\n",
       "      <td>下</td>\n",
       "      <td>0.521766</td>\n",
       "    </tr>\n",
       "    <tr>\n",
       "      <th>448</th>\n",
       "      <td>もの</td>\n",
       "      <td>267006</td>\n",
       "      <td>物</td>\n",
       "      <td>0.503219</td>\n",
       "    </tr>\n",
       "    <tr>\n",
       "      <th>1708</th>\n",
       "      <td>はか.る</td>\n",
       "      <td>247561</td>\n",
       "      <td>画</td>\n",
       "      <td>0.466572</td>\n",
       "    </tr>\n",
       "    <tr>\n",
       "      <th>1868</th>\n",
       "      <td>うち</td>\n",
       "      <td>237039</td>\n",
       "      <td>中</td>\n",
       "      <td>0.446741</td>\n",
       "    </tr>\n",
       "  </tbody>\n",
       "</table>\n",
       "</div>"
      ],
      "text/plain": [
       "     Reading  Frequency Most Common Kanji  Relative Frequency\n",
       "68        -な     351443                 字            0.662355\n",
       "145       もと     276847                 下            0.521766\n",
       "448       もの     267006                 物            0.503219\n",
       "1708    はか.る     247561                 画            0.466572\n",
       "1868      うち     237039                 中            0.446741"
      ]
     },
     "execution_count": 76,
     "metadata": {},
     "output_type": "execute_result"
    }
   ],
   "source": [
    "# note I am doing the most common kanji THAT HAS THAT READING AS POSSIBLE.\n",
    "# ie: 画 and 字 look strange,but follow the method. Keep this in mind!\n",
    "kunyomi_df.head()"
   ]
  },
  {
   "cell_type": "code",
   "execution_count": 77,
   "metadata": {},
   "outputs": [
    {
     "data": {
      "text/plain": [
       "count       352.000000\n",
       "mean      82391.684659\n",
       "std      115006.616681\n",
       "min          24.000000\n",
       "25%       11088.000000\n",
       "50%       41918.500000\n",
       "75%      104404.250000\n",
       "max      845600.000000\n",
       "Name: Frequency, dtype: float64"
      ]
     },
     "execution_count": 77,
     "metadata": {},
     "output_type": "execute_result"
    }
   ],
   "source": [
    "# some analysis:\n",
    "onyomi_df[\"Frequency\"].describe()"
   ]
  },
  {
   "cell_type": "code",
   "execution_count": 78,
   "metadata": {},
   "outputs": [
    {
     "data": {
      "text/plain": [
       "count      3219.000000\n",
       "mean      16483.254427\n",
       "std       29073.603301\n",
       "min           3.000000\n",
       "25%        1397.500000\n",
       "50%        5829.000000\n",
       "75%       17513.000000\n",
       "max      351443.000000\n",
       "Name: Frequency, dtype: float64"
      ]
     },
     "execution_count": 78,
     "metadata": {},
     "output_type": "execute_result"
    }
   ],
   "source": [
    "# some analysis:\n",
    "kunyomi_df[\"Frequency\"].describe()"
   ]
  },
  {
   "cell_type": "code",
   "execution_count": 79,
   "metadata": {},
   "outputs": [],
   "source": [
    "onyomi_kanji_d = {}\n",
    "for n, i in enumerate(onyomi_df[\"Most Common Kanji\"]):\n",
    "    onyomi_kanji_d[onyomi_df[\"Relative Frequency\"].iloc[n]] = i"
   ]
  },
  {
   "cell_type": "code",
   "execution_count": 80,
   "metadata": {},
   "outputs": [],
   "source": [
    "kunyomi_kanji_d = {}\n",
    "for n, i in enumerate(kunyomi_df[\"Most Common Kanji\"]):\n",
    "    kunyomi_kanji_d[kunyomi_df[\"Relative Frequency\"].iloc[n]] = i"
   ]
  },
  {
   "cell_type": "code",
   "execution_count": 87,
   "metadata": {},
   "outputs": [],
   "source": [
    "def make_pretty_graph(df,kanji_mapping,reading_type,bound):\n",
    "    \n",
    "    r = lambda:random.randint(0,255)\n",
    "    my_colors = ['#%02X%02X%02X' % (r(),r(),r()) for i in range(df[\"Relative Frequency\"].size)]\n",
    "\n",
    "    x = df[\"Reading\"][:bound]\n",
    "    y = df[\"Relative Frequency\"][:bound]\n",
    "\n",
    "    fig, ax = plt.subplots(figsize=(20,10))\n",
    "    rects = ax.bar(x = x,height = y,color = my_colors,width = 0.8,tick_label=x)\n",
    "    ax.tick_params(labelrotation=45)\n",
    "    ax.set_ylabel(\"Relative Frequency (%)\")\n",
    "    ax.set_xlabel(\"{} Reading\".format(reading_type))\n",
    "    ax.set_title(\"{} Reading and Relative Frequency\".format(reading_type))\n",
    "    plt.rc('font', family='Meiryo',size=25)\n",
    "\n",
    "    def autolabel(rects):\n",
    "        for rect in rects:\n",
    "            height = rect.get_height()\n",
    "            ax.annotate('{}'.format(kanji_mapping[height]),\n",
    "                            xy=(rect.get_x() + rect.get_width() / 2, height),\n",
    "                            xytext=(0, 5),  # 5 points vertical offset\n",
    "                            textcoords=\"offset points\",\n",
    "                            ha='center', va='bottom')\n",
    "    autolabel(rects)\n",
    "\n",
    "\n",
    "    at = AnchoredText(\"Kanji above bars represent the most \\n frequent Kanji of that reading.\",loc=\"upper right\")\n",
    "    at.patch.set_boxstyle(\"square,pad=0.5\")\n",
    "    ax.add_artist(at)\n",
    "\n",
    "\n",
    "\n",
    "    plt.margins(0.05, 0.2)\n",
    "    #plt.savefig(\"{}.png\".format(reading_type))"
   ]
  },
  {
   "cell_type": "code",
   "execution_count": 98,
   "metadata": {},
   "outputs": [
    {
     "data": {
      "image/png": "[encoded data removed]",
      "text/plain": [
       "<Figure size 1440x720 with 1 Axes>"
      ]
     },
     "metadata": {
      "needs_background": "light"
     },
     "output_type": "display_data"
    }
   ],
   "source": [
    "make_pretty_graph(onyomi_df,onyomi_kanji_d,\"Onyomi\",15)"
   ]
  },
  {
   "cell_type": "code",
   "execution_count": 97,
   "metadata": {},
   "outputs": [
    {
     "data": {
      "image/png": "[encoded data removed]",
      "text/plain": [
       "<Figure size 1440x720 with 1 Axes>"
      ]
     },
     "metadata": {
      "needs_background": "light"
     },
     "output_type": "display_data"
    }
   ],
   "source": [
    "make_pretty_graph(kunyomi_df,kunyomi_kanji_d,\"Kunyomi\",15)"
   ]
  },
  {
   "cell_type": "code",
   "execution_count": null,
   "metadata": {},
   "outputs": [],
   "source": []
  }
 ],
 "metadata": {
  "kernelspec": {
   "display_name": "Python 3",
   "language": "python",
   "name": "python3"
  },
  "language_info": {
   "codemirror_mode": {
    "name": "ipython",
    "version": 3
   },
   "file_extension": ".py",
   "mimetype": "text/x-python",
   "name": "python",
   "nbconvert_exporter": "python",
   "pygments_lexer": "ipython3",
   "version": "3.8.2"
  }
 },
 "nbformat": 4,
 "nbformat_minor": 4
}
